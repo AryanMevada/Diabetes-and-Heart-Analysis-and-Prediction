{
 "cells": [
  {
   "cell_type": "code",
   "execution_count": 1,
   "id": "76978636",
   "metadata": {},
   "outputs": [],
   "source": [
    "import pandas as pd"
   ]
  },
  {
   "cell_type": "code",
   "execution_count": 2,
   "id": "4bd51fdf",
   "metadata": {},
   "outputs": [],
   "source": [
    "import numpy as np"
   ]
  },
  {
   "cell_type": "code",
   "execution_count": 3,
   "id": "35f4d89f",
   "metadata": {},
   "outputs": [],
   "source": [
    "import matplotlib.pyplot as plt"
   ]
  },
  {
   "cell_type": "code",
   "execution_count": 4,
   "id": "25f9564b",
   "metadata": {},
   "outputs": [],
   "source": [
    "import seaborn as sns"
   ]
  },
  {
   "cell_type": "code",
   "execution_count": 6,
   "id": "83669d44",
   "metadata": {},
   "outputs": [],
   "source": [
    "from sklearn.model_selection import train_test_split\n",
    "from sklearn.preprocessing import StandardScaler, LabelEncoder\n",
    "from sklearn.ensemble import RandomForestClassifier\n",
    "from sklearn.metrics import accuracy_score, confusion_matrix, classification_report"
   ]
  },
  {
   "cell_type": "code",
   "execution_count": 7,
   "id": "0c39ea63",
   "metadata": {},
   "outputs": [],
   "source": [
    "# Load the dataset\n",
    "file_path = \"Heart_Disease_Prediction.csv\"  # Update path if needed\n",
    "df = pd.read_csv(file_path)\n"
   ]
  },
  {
   "cell_type": "code",
   "execution_count": 8,
   "id": "530509a3",
   "metadata": {},
   "outputs": [
    {
     "name": "stdout",
     "output_type": "stream",
     "text": [
      "Dataset Info:\n",
      "<class 'pandas.core.frame.DataFrame'>\n",
      "RangeIndex: 270 entries, 0 to 269\n",
      "Data columns (total 14 columns):\n",
      " #   Column                   Non-Null Count  Dtype  \n",
      "---  ------                   --------------  -----  \n",
      " 0   Age                      270 non-null    int64  \n",
      " 1   Sex                      270 non-null    int64  \n",
      " 2   Chest pain type          270 non-null    int64  \n",
      " 3   BP                       270 non-null    int64  \n",
      " 4   Cholesterol              270 non-null    int64  \n",
      " 5   FBS over 120             270 non-null    int64  \n",
      " 6   EKG results              270 non-null    int64  \n",
      " 7   Max HR                   270 non-null    int64  \n",
      " 8   Exercise angina          270 non-null    int64  \n",
      " 9   ST depression            270 non-null    float64\n",
      " 10  Slope of ST              270 non-null    int64  \n",
      " 11  Number of vessels fluro  270 non-null    int64  \n",
      " 12  Thallium                 270 non-null    int64  \n",
      " 13  Heart Disease            270 non-null    object \n",
      "dtypes: float64(1), int64(12), object(1)\n",
      "memory usage: 29.7+ KB\n",
      "None\n"
     ]
    }
   ],
   "source": [
    "\n",
    "# Display basic info\n",
    "print(\"Dataset Info:\")\n",
    "print(df.info())\n"
   ]
  },
  {
   "cell_type": "code",
   "execution_count": 9,
   "id": "de6bf671",
   "metadata": {},
   "outputs": [
    {
     "name": "stdout",
     "output_type": "stream",
     "text": [
      "\n",
      "Missing Values:\n",
      "Age                        0\n",
      "Sex                        0\n",
      "Chest pain type            0\n",
      "BP                         0\n",
      "Cholesterol                0\n",
      "FBS over 120               0\n",
      "EKG results                0\n",
      "Max HR                     0\n",
      "Exercise angina            0\n",
      "ST depression              0\n",
      "Slope of ST                0\n",
      "Number of vessels fluro    0\n",
      "Thallium                   0\n",
      "Heart Disease              0\n",
      "dtype: int64\n"
     ]
    }
   ],
   "source": [
    "\n",
    "# Check for missing values\n",
    "print(\"\\nMissing Values:\")\n",
    "print(df.isnull().sum())\n"
   ]
  },
  {
   "cell_type": "code",
   "execution_count": 11,
   "id": "ee903fee",
   "metadata": {},
   "outputs": [],
   "source": [
    "\n",
    "# Encode categorical variables if needed\n",
    "label_encoders = {}\n",
    "for column in df.select_dtypes(include=['object']).columns:\n",
    "    le = LabelEncoder()\n",
    "    df[column] = le.fit_transform(df[column])\n",
    "    label_encoders[column] = le"
   ]
  },
  {
   "cell_type": "code",
   "execution_count": 14,
   "id": "fced0094",
   "metadata": {},
   "outputs": [],
   "source": [
    "\n",
    "\n",
    "# Splitting features and target variable\n",
    "X = df.drop(columns=['Cholesterol'])  # Replace 'target' with the actual target column name\n",
    "y = df['Cholesterol']  # Replace 'target' with the actual target column name\n",
    "\n"
   ]
  },
  {
   "cell_type": "code",
   "execution_count": 15,
   "id": "d26fc4eb",
   "metadata": {},
   "outputs": [],
   "source": [
    "\n",
    "# Split dataset into training and testing sets\n",
    "X_train, X_test, y_train, y_test = train_test_split(X, y, test_size=0.2, random_state=42)"
   ]
  },
  {
   "cell_type": "code",
   "execution_count": 16,
   "id": "7268dc6c",
   "metadata": {},
   "outputs": [],
   "source": [
    "\n",
    "# Feature scaling\n",
    "scaler = StandardScaler()\n",
    "X_train = scaler.fit_transform(X_train)\n",
    "X_test = scaler.transform(X_test)\n"
   ]
  },
  {
   "cell_type": "code",
   "execution_count": 17,
   "id": "0c8dba02",
   "metadata": {},
   "outputs": [
    {
     "data": {
      "text/html": [
       "<style>#sk-container-id-1 {color: black;}#sk-container-id-1 pre{padding: 0;}#sk-container-id-1 div.sk-toggleable {background-color: white;}#sk-container-id-1 label.sk-toggleable__label {cursor: pointer;display: block;width: 100%;margin-bottom: 0;padding: 0.3em;box-sizing: border-box;text-align: center;}#sk-container-id-1 label.sk-toggleable__label-arrow:before {content: \"▸\";float: left;margin-right: 0.25em;color: #696969;}#sk-container-id-1 label.sk-toggleable__label-arrow:hover:before {color: black;}#sk-container-id-1 div.sk-estimator:hover label.sk-toggleable__label-arrow:before {color: black;}#sk-container-id-1 div.sk-toggleable__content {max-height: 0;max-width: 0;overflow: hidden;text-align: left;background-color: #f0f8ff;}#sk-container-id-1 div.sk-toggleable__content pre {margin: 0.2em;color: black;border-radius: 0.25em;background-color: #f0f8ff;}#sk-container-id-1 input.sk-toggleable__control:checked~div.sk-toggleable__content {max-height: 200px;max-width: 100%;overflow: auto;}#sk-container-id-1 input.sk-toggleable__control:checked~label.sk-toggleable__label-arrow:before {content: \"▾\";}#sk-container-id-1 div.sk-estimator input.sk-toggleable__control:checked~label.sk-toggleable__label {background-color: #d4ebff;}#sk-container-id-1 div.sk-label input.sk-toggleable__control:checked~label.sk-toggleable__label {background-color: #d4ebff;}#sk-container-id-1 input.sk-hidden--visually {border: 0;clip: rect(1px 1px 1px 1px);clip: rect(1px, 1px, 1px, 1px);height: 1px;margin: -1px;overflow: hidden;padding: 0;position: absolute;width: 1px;}#sk-container-id-1 div.sk-estimator {font-family: monospace;background-color: #f0f8ff;border: 1px dotted black;border-radius: 0.25em;box-sizing: border-box;margin-bottom: 0.5em;}#sk-container-id-1 div.sk-estimator:hover {background-color: #d4ebff;}#sk-container-id-1 div.sk-parallel-item::after {content: \"\";width: 100%;border-bottom: 1px solid gray;flex-grow: 1;}#sk-container-id-1 div.sk-label:hover label.sk-toggleable__label {background-color: #d4ebff;}#sk-container-id-1 div.sk-serial::before {content: \"\";position: absolute;border-left: 1px solid gray;box-sizing: border-box;top: 0;bottom: 0;left: 50%;z-index: 0;}#sk-container-id-1 div.sk-serial {display: flex;flex-direction: column;align-items: center;background-color: white;padding-right: 0.2em;padding-left: 0.2em;position: relative;}#sk-container-id-1 div.sk-item {position: relative;z-index: 1;}#sk-container-id-1 div.sk-parallel {display: flex;align-items: stretch;justify-content: center;background-color: white;position: relative;}#sk-container-id-1 div.sk-item::before, #sk-container-id-1 div.sk-parallel-item::before {content: \"\";position: absolute;border-left: 1px solid gray;box-sizing: border-box;top: 0;bottom: 0;left: 50%;z-index: -1;}#sk-container-id-1 div.sk-parallel-item {display: flex;flex-direction: column;z-index: 1;position: relative;background-color: white;}#sk-container-id-1 div.sk-parallel-item:first-child::after {align-self: flex-end;width: 50%;}#sk-container-id-1 div.sk-parallel-item:last-child::after {align-self: flex-start;width: 50%;}#sk-container-id-1 div.sk-parallel-item:only-child::after {width: 0;}#sk-container-id-1 div.sk-dashed-wrapped {border: 1px dashed gray;margin: 0 0.4em 0.5em 0.4em;box-sizing: border-box;padding-bottom: 0.4em;background-color: white;}#sk-container-id-1 div.sk-label label {font-family: monospace;font-weight: bold;display: inline-block;line-height: 1.2em;}#sk-container-id-1 div.sk-label-container {text-align: center;}#sk-container-id-1 div.sk-container {/* jupyter's `normalize.less` sets `[hidden] { display: none; }` but bootstrap.min.css set `[hidden] { display: none !important; }` so we also need the `!important` here to be able to override the default hidden behavior on the sphinx rendered scikit-learn.org. See: https://github.com/scikit-learn/scikit-learn/issues/21755 */display: inline-block !important;position: relative;}#sk-container-id-1 div.sk-text-repr-fallback {display: none;}</style><div id=\"sk-container-id-1\" class=\"sk-top-container\"><div class=\"sk-text-repr-fallback\"><pre>RandomForestClassifier(random_state=42)</pre><b>In a Jupyter environment, please rerun this cell to show the HTML representation or trust the notebook. <br />On GitHub, the HTML representation is unable to render, please try loading this page with nbviewer.org.</b></div><div class=\"sk-container\" hidden><div class=\"sk-item\"><div class=\"sk-estimator sk-toggleable\"><input class=\"sk-toggleable__control sk-hidden--visually\" id=\"sk-estimator-id-1\" type=\"checkbox\" checked><label for=\"sk-estimator-id-1\" class=\"sk-toggleable__label sk-toggleable__label-arrow\">RandomForestClassifier</label><div class=\"sk-toggleable__content\"><pre>RandomForestClassifier(random_state=42)</pre></div></div></div></div></div>"
      ],
      "text/plain": [
       "RandomForestClassifier(random_state=42)"
      ]
     },
     "execution_count": 17,
     "metadata": {},
     "output_type": "execute_result"
    }
   ],
   "source": [
    "\n",
    "# Train a RandomForest Classifier\n",
    "model = RandomForestClassifier(n_estimators=100, random_state=42)\n",
    "model.fit(X_train, y_train)\n"
   ]
  },
  {
   "cell_type": "code",
   "execution_count": 18,
   "id": "cc407dbc",
   "metadata": {},
   "outputs": [],
   "source": [
    "\n",
    "# Predictions\n",
    "y_pred = model.predict(X_test)\n"
   ]
  },
  {
   "cell_type": "code",
   "execution_count": 19,
   "id": "575fa78d",
   "metadata": {},
   "outputs": [
    {
     "name": "stdout",
     "output_type": "stream",
     "text": [
      "\n",
      "Accuracy: 0.0\n",
      "\n",
      "Confusion Matrix:\n",
      " [[0 0 0 ... 0 0 0]\n",
      " [0 0 0 ... 0 0 0]\n",
      " [0 0 0 ... 0 0 0]\n",
      " ...\n",
      " [0 0 0 ... 0 0 0]\n",
      " [0 0 0 ... 0 0 0]\n",
      " [0 0 0 ... 0 0 0]]\n",
      "\n",
      "Classification Report:\n",
      "               precision    recall  f1-score   support\n",
      "\n",
      "         126       0.00      0.00      0.00       1.0\n",
      "         149       0.00      0.00      0.00       2.0\n",
      "         160       0.00      0.00      0.00       1.0\n",
      "         164       0.00      0.00      0.00       0.0\n",
      "         166       0.00      0.00      0.00       0.0\n",
      "         174       0.00      0.00      0.00       0.0\n",
      "         177       0.00      0.00      0.00       0.0\n",
      "         178       0.00      0.00      0.00       0.0\n",
      "         183       0.00      0.00      0.00       1.0\n",
      "         184       0.00      0.00      0.00       0.0\n",
      "         188       0.00      0.00      0.00       2.0\n",
      "         192       0.00      0.00      0.00       1.0\n",
      "         193       0.00      0.00      0.00       1.0\n",
      "         196       0.00      0.00      0.00       1.0\n",
      "         197       0.00      0.00      0.00       0.0\n",
      "         199       0.00      0.00      0.00       2.0\n",
      "         201       0.00      0.00      0.00       1.0\n",
      "         204       0.00      0.00      0.00       0.0\n",
      "         206       0.00      0.00      0.00       1.0\n",
      "         208       0.00      0.00      0.00       0.0\n",
      "         211       0.00      0.00      0.00       1.0\n",
      "         212       0.00      0.00      0.00       0.0\n",
      "         213       0.00      0.00      0.00       0.0\n",
      "         214       0.00      0.00      0.00       0.0\n",
      "         218       0.00      0.00      0.00       0.0\n",
      "         219       0.00      0.00      0.00       0.0\n",
      "         220       0.00      0.00      0.00       0.0\n",
      "         221       0.00      0.00      0.00       1.0\n",
      "         222       0.00      0.00      0.00       0.0\n",
      "         226       0.00      0.00      0.00       1.0\n",
      "         229       0.00      0.00      0.00       1.0\n",
      "         230       0.00      0.00      0.00       1.0\n",
      "         231       0.00      0.00      0.00       0.0\n",
      "         233       0.00      0.00      0.00       1.0\n",
      "         234       0.00      0.00      0.00       0.0\n",
      "         236       0.00      0.00      0.00       1.0\n",
      "         240       0.00      0.00      0.00       1.0\n",
      "         242       0.00      0.00      0.00       1.0\n",
      "         246       0.00      0.00      0.00       0.0\n",
      "         248       0.00      0.00      0.00       1.0\n",
      "         249       0.00      0.00      0.00       2.0\n",
      "         250       0.00      0.00      0.00       1.0\n",
      "         252       0.00      0.00      0.00       1.0\n",
      "         254       0.00      0.00      0.00       2.0\n",
      "         255       0.00      0.00      0.00       1.0\n",
      "         256       0.00      0.00      0.00       1.0\n",
      "         258       0.00      0.00      0.00       0.0\n",
      "         260       0.00      0.00      0.00       1.0\n",
      "         262       0.00      0.00      0.00       0.0\n",
      "         263       0.00      0.00      0.00       2.0\n",
      "         264       0.00      0.00      0.00       0.0\n",
      "         265       0.00      0.00      0.00       1.0\n",
      "         267       0.00      0.00      0.00       1.0\n",
      "         269       0.00      0.00      0.00       1.0\n",
      "         270       0.00      0.00      0.00       1.0\n",
      "         271       0.00      0.00      0.00       0.0\n",
      "         274       0.00      0.00      0.00       0.0\n",
      "         275       0.00      0.00      0.00       1.0\n",
      "         277       0.00      0.00      0.00       0.0\n",
      "         281       0.00      0.00      0.00       0.0\n",
      "         283       0.00      0.00      0.00       2.0\n",
      "         288       0.00      0.00      0.00       1.0\n",
      "         290       0.00      0.00      0.00       1.0\n",
      "         293       0.00      0.00      0.00       0.0\n",
      "         298       0.00      0.00      0.00       0.0\n",
      "         303       0.00      0.00      0.00       1.0\n",
      "         304       0.00      0.00      0.00       2.0\n",
      "         308       0.00      0.00      0.00       1.0\n",
      "         309       0.00      0.00      0.00       1.0\n",
      "         315       0.00      0.00      0.00       1.0\n",
      "         319       0.00      0.00      0.00       1.0\n",
      "         325       0.00      0.00      0.00       1.0\n",
      "         340       0.00      0.00      0.00       0.0\n",
      "         341       0.00      0.00      0.00       1.0\n",
      "         360       0.00      0.00      0.00       0.0\n",
      "         407       0.00      0.00      0.00       1.0\n",
      "         417       0.00      0.00      0.00       0.0\n",
      "\n",
      "    accuracy                           0.00      54.0\n",
      "   macro avg       0.00      0.00      0.00      54.0\n",
      "weighted avg       0.00      0.00      0.00      54.0\n",
      "\n"
     ]
    },
    {
     "name": "stderr",
     "output_type": "stream",
     "text": [
      "C:\\Users\\aryan\\anaconda3\\Lib\\site-packages\\sklearn\\metrics\\_classification.py:1469: UndefinedMetricWarning: Precision and F-score are ill-defined and being set to 0.0 in labels with no predicted samples. Use `zero_division` parameter to control this behavior.\n",
      "  _warn_prf(average, modifier, msg_start, len(result))\n",
      "C:\\Users\\aryan\\anaconda3\\Lib\\site-packages\\sklearn\\metrics\\_classification.py:1469: UndefinedMetricWarning: Recall and F-score are ill-defined and being set to 0.0 in labels with no true samples. Use `zero_division` parameter to control this behavior.\n",
      "  _warn_prf(average, modifier, msg_start, len(result))\n",
      "C:\\Users\\aryan\\anaconda3\\Lib\\site-packages\\sklearn\\metrics\\_classification.py:1469: UndefinedMetricWarning: Precision and F-score are ill-defined and being set to 0.0 in labels with no predicted samples. Use `zero_division` parameter to control this behavior.\n",
      "  _warn_prf(average, modifier, msg_start, len(result))\n",
      "C:\\Users\\aryan\\anaconda3\\Lib\\site-packages\\sklearn\\metrics\\_classification.py:1469: UndefinedMetricWarning: Recall and F-score are ill-defined and being set to 0.0 in labels with no true samples. Use `zero_division` parameter to control this behavior.\n",
      "  _warn_prf(average, modifier, msg_start, len(result))\n",
      "C:\\Users\\aryan\\anaconda3\\Lib\\site-packages\\sklearn\\metrics\\_classification.py:1469: UndefinedMetricWarning: Precision and F-score are ill-defined and being set to 0.0 in labels with no predicted samples. Use `zero_division` parameter to control this behavior.\n",
      "  _warn_prf(average, modifier, msg_start, len(result))\n",
      "C:\\Users\\aryan\\anaconda3\\Lib\\site-packages\\sklearn\\metrics\\_classification.py:1469: UndefinedMetricWarning: Recall and F-score are ill-defined and being set to 0.0 in labels with no true samples. Use `zero_division` parameter to control this behavior.\n",
      "  _warn_prf(average, modifier, msg_start, len(result))\n"
     ]
    },
    {
     "data": {
      "image/png": "[encoded data removed]",
      "text/plain": [
       "<Figure size 1000x600 with 1 Axes>"
      ]
     },
     "metadata": {},
     "output_type": "display_data"
    }
   ],
   "source": [
    "\n",
    "# Model Evaluation\n",
    "print(\"\\nAccuracy:\", accuracy_score(y_test, y_pred))\n",
    "print(\"\\nConfusion Matrix:\\n\", confusion_matrix(y_test, y_pred))\n",
    "print(\"\\nClassification Report:\\n\", classification_report(y_test, y_pred))\n",
    "\n",
    "# Plot feature importance\n",
    "feature_importances = model.feature_importances_\n",
    "plt.figure(figsize=(10, 6))\n",
    "sns.barplot(x=X.columns, y=feature_importances)\n",
    "plt.xticks(rotation=90)\n",
    "plt.title(\"Feature Importance\")\n",
    "plt.show()"
   ]
  },
  {
   "cell_type": "code",
   "execution_count": null,
   "id": "43f841e7",
   "metadata": {},
   "outputs": [],
   "source": []
  }
 ],
 "metadata": {
  "kernelspec": {
   "display_name": "Python 3 (ipykernel)",
   "language": "python",
   "name": "python3"
  },
  "language_info": {
   "codemirror_mode": {
    "name": "ipython",
    "version": 3
   },
   "file_extension": ".py",
   "mimetype": "text/x-python",
   "name": "python",
   "nbconvert_exporter": "python",
   "pygments_lexer": "ipython3",
   "version": "3.11.5"
  }
 },
 "nbformat": 4,
 "nbformat_minor": 5
}
